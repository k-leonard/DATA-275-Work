{
 "cells": [
  {
   "cell_type": "markdown",
   "metadata": {},
   "source": [
    "# Homework 4 Problem 2 "
   ]
  },
  {
   "cell_type": "markdown",
   "metadata": {},
   "source": [
    "For this problem, we are exploring the Cepheid variables that Henrietta Leavitt observed over a hundred years ago, with the goal of first determining the absolute magnitude of the stars, and then utilizing that information, alongside a Cepheid vairable to determine the distance to the star. We are given two CSVs for this problem: one with multiple Cepheid variables that Leavitt observed, and the other with more specific observations of a Cepheid variable. It's easiest to tackle this problem in two steps, part A and part B. In part A, we will tackle finding the absolute magnitude and identifying trends in the data. In part B, we will determine the distance to the particualr star described, using the information given to us as well as the information determined in part A."
   ]
  },
  {
   "cell_type": "markdown",
   "metadata": {},
   "source": [
    "### Part A"
   ]
  },
  {
   "cell_type": "markdown",
   "metadata": {},
   "source": [
    "It is important to import several Python libraries to make data investigation, manipulation,and visualization easier. We import pandas, numpy, matplotlib (specifcally the sub library of pyplot) and the math library as well as the fft and signal sublibraries of scipy."
   ]
  },
  {
   "cell_type": "code",
   "execution_count": 1,
   "metadata": {},
   "outputs": [],
   "source": [
    "import pandas as pd \n",
    "import numpy as np \n",
    "import matplotlib.pyplot as plt \n",
    "import math\n",
    "import scipy.fft\n",
    "from scipy.signal import lombscargle, find_peaks"
   ]
  },
  {
   "cell_type": "markdown",
   "metadata": {},
   "source": [
    "We then need to read in our first CSV and examine it to determine what we have to work with. \n",
    "\n",
    "When we look at the data, we see that we are given the Harvard identification number, the minimum and maximum apparent magnitudes, and the observed period in days. "
   ]
  },
  {
   "cell_type": "code",
   "execution_count": 2,
   "metadata": {},
   "outputs": [
    {
     "data": {
      "text/html": [
       "<div>\n",
       "<style scoped>\n",
       "    .dataframe tbody tr th:only-of-type {\n",
       "        vertical-align: middle;\n",
       "    }\n",
       "\n",
       "    .dataframe tbody tr th {\n",
       "        vertical-align: top;\n",
       "    }\n",
       "\n",
       "    .dataframe thead th {\n",
       "        text-align: right;\n",
       "    }\n",
       "</style>\n",
       "<table border=\"1\" class=\"dataframe\">\n",
       "  <thead>\n",
       "    <tr style=\"text-align: right;\">\n",
       "      <th></th>\n",
       "      <th>Harv_Num</th>\n",
       "      <th>m_max</th>\n",
       "      <th>m_min</th>\n",
       "      <th>period_d</th>\n",
       "    </tr>\n",
       "  </thead>\n",
       "  <tbody>\n",
       "    <tr>\n",
       "      <th>0</th>\n",
       "      <td>1505</td>\n",
       "      <td>14.8</td>\n",
       "      <td>16.1</td>\n",
       "      <td>1.25336</td>\n",
       "    </tr>\n",
       "    <tr>\n",
       "      <th>1</th>\n",
       "      <td>1436</td>\n",
       "      <td>14.8</td>\n",
       "      <td>16.4</td>\n",
       "      <td>1.66370</td>\n",
       "    </tr>\n",
       "    <tr>\n",
       "      <th>2</th>\n",
       "      <td>1446</td>\n",
       "      <td>14.8</td>\n",
       "      <td>16.4</td>\n",
       "      <td>1.76200</td>\n",
       "    </tr>\n",
       "    <tr>\n",
       "      <th>3</th>\n",
       "      <td>1506</td>\n",
       "      <td>15.1</td>\n",
       "      <td>16.3</td>\n",
       "      <td>1.87502</td>\n",
       "    </tr>\n",
       "    <tr>\n",
       "      <th>4</th>\n",
       "      <td>1413</td>\n",
       "      <td>14.7</td>\n",
       "      <td>15.6</td>\n",
       "      <td>2.17352</td>\n",
       "    </tr>\n",
       "    <tr>\n",
       "      <th>5</th>\n",
       "      <td>1460</td>\n",
       "      <td>14.4</td>\n",
       "      <td>15.7</td>\n",
       "      <td>2.91300</td>\n",
       "    </tr>\n",
       "    <tr>\n",
       "      <th>6</th>\n",
       "      <td>1422</td>\n",
       "      <td>14.7</td>\n",
       "      <td>15.9</td>\n",
       "      <td>3.50100</td>\n",
       "    </tr>\n",
       "    <tr>\n",
       "      <th>7</th>\n",
       "      <td>842</td>\n",
       "      <td>16.6</td>\n",
       "      <td>16.1</td>\n",
       "      <td>4.28970</td>\n",
       "    </tr>\n",
       "    <tr>\n",
       "      <th>8</th>\n",
       "      <td>1425</td>\n",
       "      <td>14.3</td>\n",
       "      <td>15.3</td>\n",
       "      <td>4.54700</td>\n",
       "    </tr>\n",
       "    <tr>\n",
       "      <th>9</th>\n",
       "      <td>1742</td>\n",
       "      <td>14.3</td>\n",
       "      <td>15.5</td>\n",
       "      <td>4.98660</td>\n",
       "    </tr>\n",
       "    <tr>\n",
       "      <th>10</th>\n",
       "      <td>1646</td>\n",
       "      <td>14.4</td>\n",
       "      <td>15.4</td>\n",
       "      <td>5.31100</td>\n",
       "    </tr>\n",
       "    <tr>\n",
       "      <th>11</th>\n",
       "      <td>1492</td>\n",
       "      <td>13.8</td>\n",
       "      <td>14.8</td>\n",
       "      <td>6.29260</td>\n",
       "    </tr>\n",
       "    <tr>\n",
       "      <th>12</th>\n",
       "      <td>1400</td>\n",
       "      <td>14.1</td>\n",
       "      <td>14.8</td>\n",
       "      <td>6.65000</td>\n",
       "    </tr>\n",
       "    <tr>\n",
       "      <th>13</th>\n",
       "      <td>1355</td>\n",
       "      <td>14.0</td>\n",
       "      <td>14.8</td>\n",
       "      <td>7.48300</td>\n",
       "    </tr>\n",
       "    <tr>\n",
       "      <th>14</th>\n",
       "      <td>1374</td>\n",
       "      <td>13.9</td>\n",
       "      <td>15.2</td>\n",
       "      <td>8.39700</td>\n",
       "    </tr>\n",
       "    <tr>\n",
       "      <th>15</th>\n",
       "      <td>818</td>\n",
       "      <td>13.6</td>\n",
       "      <td>14.7</td>\n",
       "      <td>10.33600</td>\n",
       "    </tr>\n",
       "    <tr>\n",
       "      <th>16</th>\n",
       "      <td>1610</td>\n",
       "      <td>13.4</td>\n",
       "      <td>14.6</td>\n",
       "      <td>11.64500</td>\n",
       "    </tr>\n",
       "    <tr>\n",
       "      <th>17</th>\n",
       "      <td>1365</td>\n",
       "      <td>13.8</td>\n",
       "      <td>14.8</td>\n",
       "      <td>12.41700</td>\n",
       "    </tr>\n",
       "    <tr>\n",
       "      <th>18</th>\n",
       "      <td>1351</td>\n",
       "      <td>13.4</td>\n",
       "      <td>14.4</td>\n",
       "      <td>13.08000</td>\n",
       "    </tr>\n",
       "    <tr>\n",
       "      <th>19</th>\n",
       "      <td>827</td>\n",
       "      <td>13.4</td>\n",
       "      <td>14.3</td>\n",
       "      <td>13.47000</td>\n",
       "    </tr>\n",
       "    <tr>\n",
       "      <th>20</th>\n",
       "      <td>822</td>\n",
       "      <td>13.0</td>\n",
       "      <td>14.6</td>\n",
       "      <td>16.75000</td>\n",
       "    </tr>\n",
       "    <tr>\n",
       "      <th>21</th>\n",
       "      <td>823</td>\n",
       "      <td>12.2</td>\n",
       "      <td>14.1</td>\n",
       "      <td>31.94000</td>\n",
       "    </tr>\n",
       "    <tr>\n",
       "      <th>22</th>\n",
       "      <td>824</td>\n",
       "      <td>11.4</td>\n",
       "      <td>12.8</td>\n",
       "      <td>65.80000</td>\n",
       "    </tr>\n",
       "    <tr>\n",
       "      <th>23</th>\n",
       "      <td>821</td>\n",
       "      <td>11.2</td>\n",
       "      <td>12.1</td>\n",
       "      <td>127.00000</td>\n",
       "    </tr>\n",
       "  </tbody>\n",
       "</table>\n",
       "</div>"
      ],
      "text/plain": [
       "    Harv_Num  m_max  m_min   period_d\n",
       "0       1505   14.8   16.1    1.25336\n",
       "1       1436   14.8   16.4    1.66370\n",
       "2       1446   14.8   16.4    1.76200\n",
       "3       1506   15.1   16.3    1.87502\n",
       "4       1413   14.7   15.6    2.17352\n",
       "5       1460   14.4   15.7    2.91300\n",
       "6       1422   14.7   15.9    3.50100\n",
       "7        842   16.6   16.1    4.28970\n",
       "8       1425   14.3   15.3    4.54700\n",
       "9       1742   14.3   15.5    4.98660\n",
       "10      1646   14.4   15.4    5.31100\n",
       "11      1492   13.8   14.8    6.29260\n",
       "12      1400   14.1   14.8    6.65000\n",
       "13      1355   14.0   14.8    7.48300\n",
       "14      1374   13.9   15.2    8.39700\n",
       "15       818   13.6   14.7   10.33600\n",
       "16      1610   13.4   14.6   11.64500\n",
       "17      1365   13.8   14.8   12.41700\n",
       "18      1351   13.4   14.4   13.08000\n",
       "19       827   13.4   14.3   13.47000\n",
       "20       822   13.0   14.6   16.75000\n",
       "21       823   12.2   14.1   31.94000\n",
       "22       824   11.4   12.8   65.80000\n",
       "23       821   11.2   12.1  127.00000"
      ]
     },
     "execution_count": 2,
     "metadata": {},
     "output_type": "execute_result"
    }
   ],
   "source": [
    "data = pd.read_csv(\"C:\\\\Users\\\\lazyp\\\\Desktop\\\\Willamette Univeristy\\\\SPRING 2024\\\\data275\\\\homework-4-kendall-and-sam-main\\\\data\\\\leavitt_cepheids.csv\")\n",
    "data"
   ]
  },
  {
   "cell_type": "markdown",
   "metadata": {},
   "source": [
    "Well, since we have the minimum and the maxmimum apparent magnitude of the stars, it makes sense for our next step to be finding the average so when we calculate the absolute magnitude, we know we are using a middle-of-the-road value, instead of a possible outlier. We calculate and save our average to a variable called 'average_apparent_magnitude'."
   ]
  },
  {
   "cell_type": "code",
   "execution_count": 3,
   "metadata": {},
   "outputs": [],
   "source": [
    "data['average_apparent_magnitude']= (data['m_min']+data['m_max'])/2"
   ]
  },
  {
   "cell_type": "markdown",
   "metadata": {},
   "source": [
    "Next, we need to plot our data. Nothing gives a better sense of what we are dealing with than examining it on a plot. When we plot the period of our observations versus the average apparent magnitude we calculated earlier, we are able to see a linear relationship."
   ]
  },
  {
   "cell_type": "code",
   "execution_count": 4,
   "metadata": {},
   "outputs": [
    {
     "data": {
      "text/plain": [
       "Text(0, 0.5, 'Average Apparent Magnitude')"
      ]
     },
     "execution_count": 4,
     "metadata": {},
     "output_type": "execute_result"
    },
    {
     "data": {
      "image/png": "[encoded data removed]",
      "text/plain": [
       "<Figure size 432x288 with 1 Axes>"
      ]
     },
     "metadata": {
      "needs_background": "light"
     },
     "output_type": "display_data"
    }
   ],
   "source": [
    "plt.plot(data.period_d, data.average_apparent_magnitude, '.')\n",
    "plt.title('Period vs Average Apparent Magnitude')\n",
    "plt.xlabel('Period (days)')\n",
    "plt.ylabel('Average Apparent Magnitude')"
   ]
  },
  {
   "cell_type": "markdown",
   "metadata": {},
   "source": [
    "We need to then need to calculate a slope and y-intercept to test our theory of this data having a linear relationship. We do this using the polyfit function from the numpy library, and save our results to variables aptly named 'slope' and 'intercept'. From this, we are able to learn that the slop of our data is -0.032, while our intercept is 14.97."
   ]
  },
  {
   "cell_type": "code",
   "execution_count": 5,
   "metadata": {},
   "outputs": [
    {
     "name": "stdout",
     "output_type": "stream",
     "text": [
      "The Slope is: -0.03296162452072366\n",
      "The Intercept is: 14.97702820256748\n"
     ]
    }
   ],
   "source": [
    "slope, intercept = np.polyfit(data.period_d, data.average_apparent_magnitude, 1)\n",
    "print(\"The Slope is:\",slope)\n",
    "print(\"The Intercept is:\", intercept)"
   ]
  },
  {
   "cell_type": "markdown",
   "metadata": {},
   "source": [
    "We can then test the accuracy of our slope and intercept by plotting a line with our given slope and intercept against our data. We can see that while not 100% accurate, our line gives a good explanation of the trend the data presents."
   ]
  },
  {
   "cell_type": "code",
   "execution_count": 6,
   "metadata": {},
   "outputs": [
    {
     "data": {
      "text/plain": [
       "Text(0, 0.5, 'Average Apparent Magnitude')"
      ]
     },
     "execution_count": 6,
     "metadata": {},
     "output_type": "execute_result"
    },
    {
     "data": {
      "image/png": "[encoded data removed]",
      "text/plain": [
       "<Figure size 432x288 with 1 Axes>"
      ]
     },
     "metadata": {
      "needs_background": "light"
     },
     "output_type": "display_data"
    }
   ],
   "source": [
    "plt.plot(data.period_d, data.average_apparent_magnitude, '.')\n",
    "plt.plot(data.period_d, slope*data.period_d+intercept)\n",
    "plt.title('Period vs Average Apparent Magnitude')\n",
    "plt.xlabel('Period (days)')\n",
    "plt.ylabel('Average Apparent Magnitude')"
   ]
  },
  {
   "cell_type": "markdown",
   "metadata": {},
   "source": [
    "Next, we need to consider a log based scale. Our magnitude is already in a log scale, and thus we need to make our period in log scale as well. We accomplish this with a simple line of code using the log function from numpy, and save the output as a column in our dataset called 'logperiod'."
   ]
  },
  {
   "cell_type": "code",
   "execution_count": 7,
   "metadata": {},
   "outputs": [],
   "source": [
    "data['logperiod']=np.log(data['period_d'])"
   ]
  },
  {
   "cell_type": "markdown",
   "metadata": {},
   "source": [
    "Now, we need to get a new slope and intercept, one calculated with the logperiod instead of the normal period we used before. Once again, we do this using the polyfit function from numpy and save our results as variables named slope and intercept. We learn that on this log scale, our slope is -0.899, and our intercept is 16.23."
   ]
  },
  {
   "cell_type": "code",
   "execution_count": 8,
   "metadata": {},
   "outputs": [
    {
     "name": "stdout",
     "output_type": "stream",
     "text": [
      "The Slope is: -0.8990709360564073\n",
      "The Intercept is: 16.233598834925584\n"
     ]
    }
   ],
   "source": [
    "slope, intercept = np.polyfit(data.logperiod, data.average_apparent_magnitude, 1)\n",
    "print(\"The Slope is:\",slope)\n",
    "print(\"The Intercept is:\", intercept)"
   ]
  },
  {
   "cell_type": "markdown",
   "metadata": {},
   "source": [
    "Now, we need to check and see if this log-log scale still fits the data. We do that by plotting the data with our new slope and intercept on top of the data. When we do this, we see a much clearer linear relationship between the period and average apparent magnitude. "
   ]
  },
  {
   "cell_type": "code",
   "execution_count": 9,
   "metadata": {},
   "outputs": [
    {
     "data": {
      "text/plain": [
       "Text(0, 0.5, 'Average Apparent Magnitude')"
      ]
     },
     "execution_count": 9,
     "metadata": {},
     "output_type": "execute_result"
    },
    {
     "data": {
      "image/png": "[encoded data removed]",
      "text/plain": [
       "<Figure size 432x288 with 1 Axes>"
      ]
     },
     "metadata": {
      "needs_background": "light"
     },
     "output_type": "display_data"
    }
   ],
   "source": [
    "plt.plot(data.logperiod, data.average_apparent_magnitude, '.')\n",
    "plt.plot(data.logperiod, slope*data.logperiod+intercept)\n",
    "plt.title('Period vs Average Apparent Magnitude')\n",
    "plt.xlabel('Period in log (days)')\n",
    "plt.ylabel('Average Apparent Magnitude')"
   ]
  },
  {
   "cell_type": "markdown",
   "metadata": {},
   "source": [
    "We have been using average apparent magnitude, which while useful, is not what we want to use going forward. So, we calculate the average absolute magnitude, and save it to a column of the same name. "
   ]
  },
  {
   "cell_type": "code",
   "execution_count": 10,
   "metadata": {},
   "outputs": [],
   "source": [
    "M= 5*math.log10(((49.97*1000)/10))\n",
    "data['average_absolute_magnitude']=data['average_apparent_magnitude']-M"
   ]
  },
  {
   "cell_type": "markdown",
   "metadata": {},
   "source": [
    "We then use the average absolute magnitude to extract a new slope and intercept, using numpy's polyfit function. We once again save these values as variables with the same names. With this, we learn that the slope is -0.899 and the intercept is -2.259."
   ]
  },
  {
   "cell_type": "code",
   "execution_count": 11,
   "metadata": {},
   "outputs": [
    {
     "name": "stdout",
     "output_type": "stream",
     "text": [
      "The Slope is: -0.8990709360564089\n",
      "The Intercept is: -2.2599479122873407\n"
     ]
    }
   ],
   "source": [
    "slope, intercept = np.polyfit(data.logperiod, data.average_absolute_magnitude, 1)\n",
    "print(\"The Slope is:\",slope)\n",
    "print(\"The Intercept is:\", intercept)"
   ]
  },
  {
   "cell_type": "markdown",
   "metadata": {},
   "source": [
    "We then plot the period (on a log scale) and the average absolute magnitude to double check the accuracy of our line. When examining the plot, we can clearly see that the line fits our data well. Thus, we keep these variables for later, and move onto the second part of the question. "
   ]
  },
  {
   "cell_type": "code",
   "execution_count": 12,
   "metadata": {},
   "outputs": [
    {
     "data": {
      "text/plain": [
       "Text(0, 0.5, 'Average Absolute Magnitude')"
      ]
     },
     "execution_count": 12,
     "metadata": {},
     "output_type": "execute_result"
    },
    {
     "data": {
      "image/png": "[encoded data removed]",
      "text/plain": [
       "<Figure size 432x288 with 1 Axes>"
      ]
     },
     "metadata": {
      "needs_background": "light"
     },
     "output_type": "display_data"
    }
   ],
   "source": [
    "plt.plot(data.logperiod,data.average_absolute_magnitude,'.')\n",
    "plt.plot(data.logperiod, slope*data.logperiod+intercept)\n",
    "plt.title('Period vs Average Absolute Magnitude')\n",
    "plt.xlabel('Period (days)')\n",
    "plt.ylabel('Average Absolute Magnitude')"
   ]
  },
  {
   "cell_type": "markdown",
   "metadata": {},
   "source": [
    "### Part B"
   ]
  },
  {
   "cell_type": "markdown",
   "metadata": {},
   "source": [
    "In this part of the question, we are given a second CSV which contains the light curve of a particular Cepheid variable star. Our goal is to determine how far away this star is in parsecs using our findings from part A. First, we need to read in this new CSV and examine the data. "
   ]
  },
  {
   "cell_type": "code",
   "execution_count": 13,
   "metadata": {},
   "outputs": [],
   "source": [
    "data2 = pd.read_csv(\"C:\\\\Users\\\\lazyp\\\\Desktop\\\\Willamette Univeristy\\\\SPRING 2024\\\\data275\\\\homework-4-kendall-and-sam-main\\\\data\\\\cepheid_lightcurve.csv\")"
   ]
  },
  {
   "cell_type": "markdown",
   "metadata": {},
   "source": [
    "We can see that this data contains a column named HJD, which stants for Heliocentric Julian Day, as well as a column called V_mag which is the apparent magnitude in the visual band. "
   ]
  },
  {
   "cell_type": "code",
   "execution_count": 14,
   "metadata": {},
   "outputs": [
    {
     "data": {
      "text/html": [
       "<div>\n",
       "<style scoped>\n",
       "    .dataframe tbody tr th:only-of-type {\n",
       "        vertical-align: middle;\n",
       "    }\n",
       "\n",
       "    .dataframe tbody tr th {\n",
       "        vertical-align: top;\n",
       "    }\n",
       "\n",
       "    .dataframe thead th {\n",
       "        text-align: right;\n",
       "    }\n",
       "</style>\n",
       "<table border=\"1\" class=\"dataframe\">\n",
       "  <thead>\n",
       "    <tr style=\"text-align: right;\">\n",
       "      <th></th>\n",
       "      <th>HJD</th>\n",
       "      <th>V_mag</th>\n",
       "    </tr>\n",
       "  </thead>\n",
       "  <tbody>\n",
       "    <tr>\n",
       "      <th>0</th>\n",
       "      <td>2.454438e+06</td>\n",
       "      <td>4.3136</td>\n",
       "    </tr>\n",
       "    <tr>\n",
       "      <th>1</th>\n",
       "      <td>2.454440e+06</td>\n",
       "      <td>3.6690</td>\n",
       "    </tr>\n",
       "    <tr>\n",
       "      <th>2</th>\n",
       "      <td>2.454441e+06</td>\n",
       "      <td>3.9369</td>\n",
       "    </tr>\n",
       "    <tr>\n",
       "      <th>3</th>\n",
       "      <td>2.454448e+06</td>\n",
       "      <td>4.2614</td>\n",
       "    </tr>\n",
       "    <tr>\n",
       "      <th>4</th>\n",
       "      <td>2.454450e+06</td>\n",
       "      <td>3.4627</td>\n",
       "    </tr>\n",
       "    <tr>\n",
       "      <th>5</th>\n",
       "      <td>2.454451e+06</td>\n",
       "      <td>3.7435</td>\n",
       "    </tr>\n",
       "    <tr>\n",
       "      <th>6</th>\n",
       "      <td>2.454453e+06</td>\n",
       "      <td>4.1927</td>\n",
       "    </tr>\n",
       "    <tr>\n",
       "      <th>7</th>\n",
       "      <td>2.454455e+06</td>\n",
       "      <td>3.6357</td>\n",
       "    </tr>\n",
       "    <tr>\n",
       "      <th>8</th>\n",
       "      <td>2.454459e+06</td>\n",
       "      <td>4.3210</td>\n",
       "    </tr>\n",
       "    <tr>\n",
       "      <th>9</th>\n",
       "      <td>2.454460e+06</td>\n",
       "      <td>4.0087</td>\n",
       "    </tr>\n",
       "    <tr>\n",
       "      <th>10</th>\n",
       "      <td>2.454461e+06</td>\n",
       "      <td>3.5319</td>\n",
       "    </tr>\n",
       "    <tr>\n",
       "      <th>11</th>\n",
       "      <td>2.454466e+06</td>\n",
       "      <td>3.4726</td>\n",
       "    </tr>\n",
       "    <tr>\n",
       "      <th>12</th>\n",
       "      <td>2.454467e+06</td>\n",
       "      <td>3.7179</td>\n",
       "    </tr>\n",
       "    <tr>\n",
       "      <th>13</th>\n",
       "      <td>2.454624e+06</td>\n",
       "      <td>4.0934</td>\n",
       "    </tr>\n",
       "    <tr>\n",
       "      <th>14</th>\n",
       "      <td>2.454625e+06</td>\n",
       "      <td>4.2869</td>\n",
       "    </tr>\n",
       "    <tr>\n",
       "      <th>15</th>\n",
       "      <td>2.454626e+06</td>\n",
       "      <td>4.0377</td>\n",
       "    </tr>\n",
       "    <tr>\n",
       "      <th>16</th>\n",
       "      <td>2.454627e+06</td>\n",
       "      <td>3.5028</td>\n",
       "    </tr>\n",
       "    <tr>\n",
       "      <th>17</th>\n",
       "      <td>2.454629e+06</td>\n",
       "      <td>4.0524</td>\n",
       "    </tr>\n",
       "    <tr>\n",
       "      <th>18</th>\n",
       "      <td>2.454631e+06</td>\n",
       "      <td>4.2666</td>\n",
       "    </tr>\n",
       "    <tr>\n",
       "      <th>19</th>\n",
       "      <td>2.454632e+06</td>\n",
       "      <td>3.4735</td>\n",
       "    </tr>\n",
       "  </tbody>\n",
       "</table>\n",
       "</div>"
      ],
      "text/plain": [
       "             HJD   V_mag\n",
       "0   2.454438e+06  4.3136\n",
       "1   2.454440e+06  3.6690\n",
       "2   2.454441e+06  3.9369\n",
       "3   2.454448e+06  4.2614\n",
       "4   2.454450e+06  3.4627\n",
       "5   2.454451e+06  3.7435\n",
       "6   2.454453e+06  4.1927\n",
       "7   2.454455e+06  3.6357\n",
       "8   2.454459e+06  4.3210\n",
       "9   2.454460e+06  4.0087\n",
       "10  2.454461e+06  3.5319\n",
       "11  2.454466e+06  3.4726\n",
       "12  2.454467e+06  3.7179\n",
       "13  2.454624e+06  4.0934\n",
       "14  2.454625e+06  4.2869\n",
       "15  2.454626e+06  4.0377\n",
       "16  2.454627e+06  3.5028\n",
       "17  2.454629e+06  4.0524\n",
       "18  2.454631e+06  4.2666\n",
       "19  2.454632e+06  3.4735"
      ]
     },
     "execution_count": 14,
     "metadata": {},
     "output_type": "execute_result"
    }
   ],
   "source": [
    "data2.head(20)"
   ]
  },
  {
   "cell_type": "markdown",
   "metadata": {},
   "source": [
    "To begin determining the distance, first we need the period of the star. We do this using the Lomb-Scargle method. We set a minimum and maximum period, 1 to 10 days, and calculate the freqencies produced by the star. "
   ]
  },
  {
   "cell_type": "code",
   "execution_count": 15,
   "metadata": {},
   "outputs": [],
   "source": [
    "#power= scipy.fft.rfft2(data2)\n",
    "period_max =1\n",
    "period_min=10\n",
    "afreqs=2*np.pi*np.linspace(1/period_max, 1/period_min,10000)"
   ]
  },
  {
   "cell_type": "markdown",
   "metadata": {},
   "source": [
    "We then use these frequenices with the Lob-Scargle method to determine the power. "
   ]
  },
  {
   "cell_type": "code",
   "execution_count": 16,
   "metadata": {},
   "outputs": [],
   "source": [
    "power= lombscargle(data2.HJD, data2.V_mag,afreqs, precenter= True)"
   ]
  },
  {
   "cell_type": "markdown",
   "metadata": {},
   "source": [
    "Next, we can plot this out to determine the period, which we do by finding the highest peak on the Lomb-Scargle periodogram, and extracting its location. When we look at the periodogram, we can see that the highest peak seems to be around 5 days, but we can be more specific. "
   ]
  },
  {
   "cell_type": "code",
   "execution_count": 17,
   "metadata": {},
   "outputs": [
    {
     "data": {
      "image/png": "[encoded data removed]",
      "text/plain": [
       "<Figure size 432x288 with 1 Axes>"
      ]
     },
     "metadata": {
      "needs_background": "light"
     },
     "output_type": "display_data"
    }
   ],
   "source": [
    "plt.plot(2 * np.pi / afreqs, power)\n",
    "plt.xlabel('Period (days)')\n",
    "plt.ylabel('Power')\n",
    "plt.title('Lomb-Scargle Periodogram')\n",
    "plt.show()"
   ]
  },
  {
   "cell_type": "markdown",
   "metadata": {},
   "source": [
    "We can be more specific by utilizing the find peaks function from scipy's sublibrary signal. From this, we are given the location in the array, 9040."
   ]
  },
  {
   "cell_type": "code",
   "execution_count": 18,
   "metadata": {},
   "outputs": [
    {
     "data": {
      "text/plain": [
       "(array([9040], dtype=int64), {'peak_heights': array([3.27516262])})"
      ]
     },
     "execution_count": 18,
     "metadata": {},
     "output_type": "execute_result"
    }
   ],
   "source": [
    "find_peaks(power, height = 3)"
   ]
  },
  {
   "cell_type": "markdown",
   "metadata": {},
   "source": [
    "We can then use this 9040 to extract the number from the frequency. We then use this as the denominator, with 2*pi in the top to get a period of days. With this, we can say that the star has period of 5 days. "
   ]
  },
  {
   "cell_type": "code",
   "execution_count": 19,
   "metadata": {},
   "outputs": [
    {
     "data": {
      "text/plain": [
       "5.367149758454107"
      ]
     },
     "execution_count": 19,
     "metadata": {},
     "output_type": "execute_result"
    }
   ],
   "source": [
    "period=2*np.pi/afreqs[9040]\n",
    "period"
   ]
  },
  {
   "cell_type": "markdown",
   "metadata": {},
   "source": [
    "Next, we need to calculate the average apparent magnitude and average absolute magnitude of our star, which we do simply by taking the mean. We save the results to variables named apparent_magnitude_star and absolute_magnitude_star."
   ]
  },
  {
   "cell_type": "code",
   "execution_count": 20,
   "metadata": {},
   "outputs": [],
   "source": [
    "apparent_magnitude_star = data2.V_mag.mean()  \n",
    "absolute_magnitude_star = data['average_absolute_magnitude'].mean()\n"
   ]
  },
  {
   "cell_type": "markdown",
   "metadata": {},
   "source": [
    "With our apparant and absolute magnitude, paried with our period we can determine the distance to this star in parsecs. The distance to this Cepheid star is 301.51 parsecs. Thus, we have determined the distance like the question asked."
   ]
  },
  {
   "cell_type": "code",
   "execution_count": 21,
   "metadata": {},
   "outputs": [
    {
     "data": {
      "text/plain": [
       "301.51448757959446"
      ]
     },
     "execution_count": 21,
     "metadata": {},
     "output_type": "execute_result"
    }
   ],
   "source": [
    "distance_parsecs = 10**((apparent_magnitude_star - absolute_magnitude_star + period) / period)\n",
    "distance_parsecs"
   ]
  }
 ],
 "metadata": {
  "kernelspec": {
   "display_name": "base",
   "language": "python",
   "name": "python3"
  },
  "language_info": {
   "codemirror_mode": {
    "name": "ipython",
    "version": 3
   },
   "file_extension": ".py",
   "mimetype": "text/x-python",
   "name": "python",
   "nbconvert_exporter": "python",
   "pygments_lexer": "ipython3",
   "version": "3.8.8"
  }
 },
 "nbformat": 4,
 "nbformat_minor": 2
}
