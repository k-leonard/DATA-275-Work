{
 "cells": [
  {
   "cell_type": "markdown",
   "metadata": {},
   "source": [
    "# Problem 3"
   ]
  },
  {
   "cell_type": "markdown",
   "metadata": {},
   "source": [
    "For this problem, our goal is to build several classification models in order to help classify galaxies for the Galaxy Zoo project. "
   ]
  },
  {
   "cell_type": "markdown",
   "metadata": {},
   "source": [
    "To begin, we import packages that we will find useful later on, such as Random (to set a seed for easy replication), pandas (for ease of data manipuation), matplotlib (for plotting), and sklearn (for our classification models)."
   ]
  },
  {
   "cell_type": "code",
   "execution_count": 42,
   "metadata": {},
   "outputs": [],
   "source": [
    "import random\n",
    "import pandas as pd\n",
    "import matplotlib.pyplot as plt\n",
    "from sklearn.linear_model import LogisticRegression\n",
    "from sklearn.model_selection import train_test_split\n",
    "from sklearn.metrics import ConfusionMatrixDisplay as CMD\n",
    "from sklearn.metrics import confusion_matrix\n",
    "from sklearn.tree import DecisionTreeClassifier\n",
    "from matplotlib.pyplot import xlabel, xticks, ylabel\n",
    "from sklearn.ensemble import RandomForestClassifier\n"
   ]
  },
  {
   "cell_type": "markdown",
   "metadata": {},
   "source": [
    "We are given a CSV with all of the data, and we need to take a minute to look at all the information given. We are given information on the color,eccentricity, the 4th order adaptive moment in each filter (which measures the kurtosis or “tailed-ness” of a distribution), and the Petrosian magnitudes."
   ]
  },
  {
   "cell_type": "code",
   "execution_count": 43,
   "metadata": {},
   "outputs": [],
   "source": [
    "data=pd.read_csv('C:\\\\Users\\\\lazyp\\\\Desktop\\\\Willamette Univeristy\\\\SPRING 2024\\\\data275\\\\homework-4-kendall-and-sam-main\\\\data\\\\galaxies.csv')"
   ]
  },
  {
   "cell_type": "markdown",
   "metadata": {},
   "source": [
    "Next, we need to split our data for testing and training. We split our data where 80% of the data is assigned to training data and the remaining 20% is assigned to testing data. "
   ]
  },
  {
   "cell_type": "code",
   "execution_count": 44,
   "metadata": {},
   "outputs": [],
   "source": [
    "random.seed(420)\n",
    "train_df,test_df=train_test_split(data,test_size=0.2)"
   ]
  },
  {
   "cell_type": "markdown",
   "metadata": {},
   "source": [
    "## Part A"
   ]
  },
  {
   "cell_type": "markdown",
   "metadata": {},
   "source": [
    "We start our decent into classifcation models with a logistic regression model. "
   ]
  },
  {
   "cell_type": "code",
   "execution_count": 45,
   "metadata": {},
   "outputs": [],
   "source": [
    "model = LogisticRegression(max_iter=10000)"
   ]
  },
  {
   "cell_type": "markdown",
   "metadata": {},
   "source": [
    "Next, we need to fit the model, using the training data."
   ]
  },
  {
   "cell_type": "code",
   "execution_count": 46,
   "metadata": {},
   "outputs": [],
   "source": [
    "model_fit = model.fit(train_df[['u-g','g-r','r-i','i-z','ecc','m4_u','m4_g','m4_r','m4_i','m4_z','petroR50_u','petroR50_r','petroR50_z','petroR90_u','petroR90_r','petroR90_z']],train_df['class'])"
   ]
  },
  {
   "cell_type": "markdown",
   "metadata": {},
   "source": [
    "We then need to see how it predicts, by feeding it the testing data. "
   ]
  },
  {
   "cell_type": "code",
   "execution_count": 47,
   "metadata": {},
   "outputs": [],
   "source": [
    "test_df['Logistic_predicted']=model.predict(test_df[['u-g','g-r','r-i','i-z','ecc','m4_u','m4_g','m4_r','m4_i','m4_z','petroR50_u','petroR50_r','petroR50_z','petroR90_u','petroR90_r','petroR90_z']])"
   ]
  },
  {
   "cell_type": "markdown",
   "metadata": {},
   "source": [
    "We then evaluate our model by making a confustion matrix of its predictions of the test data. We can see from the confusion matrix that the model has the hardest time predicting merger galaxies and often correctly predicts the elliptical galaxies."
   ]
  },
  {
   "cell_type": "code",
   "execution_count": 48,
   "metadata": {},
   "outputs": [
    {
     "data": {
      "image/png": "[encoded data removed]",
      "text/plain": [
       "<Figure size 432x288 with 2 Axes>"
      ]
     },
     "metadata": {
      "needs_background": "light"
     },
     "output_type": "display_data"
    }
   ],
   "source": [
    "Confusion_Matrix=CMD.from_predictions(test_df['class'],test_df['Logistic_predicted'])"
   ]
  },
  {
   "cell_type": "markdown",
   "metadata": {},
   "source": [
    "While a confusion matrix is useful, there are more accurate ways of measuring how well a model does in classification. The first is precision; precision measures the accuracy of the positive predictions made by the model. It answers the question: \"Of all the instances predicted as positive, how many are actually positive?\". In order to make things we efficent, we created a function which takes in the predictions and actual data to calculate the precision for this model."
   ]
  },
  {
   "cell_type": "code",
   "execution_count": 49,
   "metadata": {},
   "outputs": [],
   "source": [
    "def find_precision(predicted_list,actual_list):\n",
    "    unique_list=set(actual_list)\n",
    "    print(unique_list)\n",
    "    precision_stat_list=[]\n",
    "    for type in unique_list:\n",
    "        TP=0\n",
    "        FP=0\n",
    "        for x,observation in enumerate(predicted_list):\n",
    "            if observation==type:\n",
    "                if actual_list[x]==type:\n",
    "                    TP+=1\n",
    "                else:\n",
    "                    FP+=1\n",
    "        precision_stat_list.append(TP/(TP+FP))\n",
    "    return precision_stat_list\n",
    "    "
   ]
  },
  {
   "cell_type": "markdown",
   "metadata": {},
   "source": [
    "The second method is recall, which measures the ability of the model to correctly identify all positive instances. It answers the question: \"Of all the actual positive instances, how many did the model correctly identify?\" Once again, for ease of use, a function has been created."
   ]
  },
  {
   "cell_type": "code",
   "execution_count": 50,
   "metadata": {},
   "outputs": [],
   "source": [
    "def find_recall(predicted_list,actual_list):\n",
    "    unique_list=set(actual_list)\n",
    "    print(unique_list)\n",
    "    recall_stat_list=[]\n",
    "    for type in unique_list:\n",
    "        TP=0\n",
    "        FN=0\n",
    "        for x,observation in enumerate(actual_list):\n",
    "            if observation==type:\n",
    "                if predicted_list[x]==type:\n",
    "                    TP+=1\n",
    "                else:\n",
    "                    FN+=1\n",
    "        recall_stat_list.append(TP/(TP+FN))\n",
    "    return recall_stat_list"
   ]
  },
  {
   "cell_type": "markdown",
   "metadata": {},
   "source": [
    "We then implement these functions, and print out our recall and precision values for each type of galaxy using our logistic regression model. This was done to see if there was some type of galaxy that the model was great at predicting, with the hope that the information could be used to improve future models. Sadly there was nothing crazy to be found in other then elliptical galaxies consistently having a high recall. "
   ]
  },
  {
   "cell_type": "code",
   "execution_count": 51,
   "metadata": {},
   "outputs": [
    {
     "name": "stdout",
     "output_type": "stream",
     "text": [
      "{'elliptical', 'merger', 'spiral'}\n",
      "{'elliptical', 'merger', 'spiral'}\n",
      "         Type    Recall  Precision\n",
      "0  elliptical  0.950000   0.904762\n",
      "1      merger  0.690476   0.707317\n",
      "2      spiral  0.814815   0.846154\n"
     ]
    }
   ],
   "source": [
    "random.seed(420)\n",
    "log_precision_list=find_precision(list(test_df['Logistic_predicted']),list(test_df['class']))\n",
    "log_recall_list=find_recall(list(test_df['Logistic_predicted']),list(test_df['class']))\n",
    "label=['Type','Recall','Precision']\n",
    "type=list(set(test_df['class']))\n",
    "data={'Type':type,'Recall':log_recall_list,'Precision':log_precision_list}\n",
    "print(pd.DataFrame(data))\n"
   ]
  },
  {
   "cell_type": "markdown",
   "metadata": {},
   "source": [
    "It was found that the  overall accuracy of the model to be around 87%. "
   ]
  },
  {
   "cell_type": "code",
   "execution_count": 52,
   "metadata": {},
   "outputs": [
    {
     "name": "stdout",
     "output_type": "stream",
     "text": [
      "0.8333333333333334\n"
     ]
    }
   ],
   "source": [
    "random.seed(420)\n",
    "accuracy=len(test_df[test_df['class']==test_df['Logistic_predicted']])/len(test_df)\n",
    "print(accuracy)"
   ]
  },
  {
   "cell_type": "markdown",
   "metadata": {},
   "source": [
    "## Part B"
   ]
  },
  {
   "cell_type": "markdown",
   "metadata": {},
   "source": [
    "Utilizing the same data, we move onto our next method of classification: Decision Tree model."
   ]
  },
  {
   "cell_type": "code",
   "execution_count": 53,
   "metadata": {},
   "outputs": [],
   "source": [
    "random.seed(420)\n",
    "tree = DecisionTreeClassifier(ccp_alpha=0.01)\n",
    "#ccp_alpha determines the complexity of the tree, if it is too low the tree will over fit, but too high and it won't predict well enough"
   ]
  },
  {
   "cell_type": "markdown",
   "metadata": {},
   "source": [
    " We are  training it with the same data and asking it to predict the same test data as before, ensured by the seed we set at the very beginning of tackling this problem. "
   ]
  },
  {
   "cell_type": "code",
   "execution_count": 54,
   "metadata": {},
   "outputs": [],
   "source": [
    "model = tree.fit(train_df[['u-g','g-r','r-i','i-z','ecc','m4_u','m4_g','m4_r','m4_i','m4_z','petroR50_u','petroR50_r','petroR50_z','petroR90_u','petroR90_r','petroR90_z']],train_df['class'])\n",
    "test_df['Tree_predicted']=model.predict(test_df[['u-g','g-r','r-i','i-z','ecc','m4_u','m4_g','m4_r','m4_i','m4_z','petroR50_u','petroR50_r','petroR50_z','petroR90_u','petroR90_r','petroR90_z']])\n"
   ]
  },
  {
   "cell_type": "markdown",
   "metadata": {},
   "source": [
    "We then make a confusion matrix to see how well it performs. We see that this model is worse at predicting the galaxy types then the logistic regression model overall. "
   ]
  },
  {
   "cell_type": "code",
   "execution_count": 55,
   "metadata": {},
   "outputs": [
    {
     "data": {
      "text/plain": [
       "<sklearn.metrics._plot.confusion_matrix.ConfusionMatrixDisplay at 0x18a494f1e80>"
      ]
     },
     "execution_count": 55,
     "metadata": {},
     "output_type": "execute_result"
    },
    {
     "data": {
      "image/png": "[encoded data removed]",
      "text/plain": [
       "<Figure size 432x288 with 2 Axes>"
      ]
     },
     "metadata": {
      "needs_background": "light"
     },
     "output_type": "display_data"
    }
   ],
   "source": [
    "cm=confusion_matrix(test_df['class'],test_df['Tree_predicted'])\n",
    "CMD(confusion_matrix=cm,display_labels=type).plot()"
   ]
  },
  {
   "cell_type": "markdown",
   "metadata": {},
   "source": [
    "When dealing with decision trees, a huge factor is determining what elements the model beleives are most significant when classifiying a galaxy. We are able to visualize this by creating a graph, notice that it only takes into account seven aspects of the data with it caring about u-g and petroR90_r the most."
   ]
  },
  {
   "cell_type": "code",
   "execution_count": 56,
   "metadata": {},
   "outputs": [
    {
     "data": {
      "image/png": "[encoded data removed]",
      "text/plain": [
       "<Figure size 432x288 with 1 Axes>"
      ]
     },
     "metadata": {
      "needs_background": "light"
     },
     "output_type": "display_data"
    }
   ],
   "source": [
    "importance=pd.Series(tree.feature_importances_,train_df.iloc[:,:16].columns)\n",
    "importance.sort_values(ascending=False,inplace=True)\n",
    "plt.bar(importance.index,importance)\n",
    "xlabel('Importance')\n",
    "ylabel('Feature')\n",
    "xticks(rotation=90)\n",
    "plt.show()"
   ]
  },
  {
   "cell_type": "markdown",
   "metadata": {},
   "source": [
    "The best way to understand how these trees work is to visualize the models branches, which we do to gain a better understanding."
   ]
  },
  {
   "cell_type": "code",
   "execution_count": 57,
   "metadata": {},
   "outputs": [
    {
     "data": {
      "image/png": "[encoded data removed]",
      "text/plain": [
       "<Figure size 432x288 with 1 Axes>"
      ]
     },
     "metadata": {
      "needs_background": "light"
     },
     "output_type": "display_data"
    }
   ],
   "source": [
    "random.seed(420)\n",
    "from sklearn.tree import plot_tree\n",
    "plot_tree(tree, filled=True, feature_names=train_df.iloc[:,:16].columns)\n",
    "plt.show()"
   ]
  },
  {
   "cell_type": "markdown",
   "metadata": {},
   "source": [
    "Next we look at the recall and precision of the Decision Tree model for specific galaxy types. It seems to be significantly worse at predicting the merger galaxies then the logistic regression model. "
   ]
  },
  {
   "cell_type": "code",
   "execution_count": 58,
   "metadata": {},
   "outputs": [
    {
     "name": "stdout",
     "output_type": "stream",
     "text": [
      "{'elliptical', 'merger', 'spiral'}\n",
      "{'elliptical', 'merger', 'spiral'}\n",
      "         Type    Recall  Precision\n",
      "0  elliptical  0.900000   0.870968\n",
      "1      merger  0.714286   0.566038\n",
      "2      spiral  0.611111   0.804878\n"
     ]
    }
   ],
   "source": [
    "random.seed(420)\n",
    "tree_precision_list=find_precision(list(test_df['Tree_predicted']),list(test_df['class']))\n",
    "tree_recall_list=find_recall(list(test_df['Tree_predicted']),list(test_df['class']))\n",
    "label=['Type','Recall','Precision']\n",
    "type=list(set(test_df['class']))\n",
    "data={'Type':type,'Recall':tree_recall_list,'Precision':tree_precision_list}\n",
    "print(pd.DataFrame(data))\n"
   ]
  },
  {
   "cell_type": "markdown",
   "metadata": {},
   "source": [
    "We find its overall accuracy to be around 86.5%. "
   ]
  },
  {
   "cell_type": "code",
   "execution_count": 59,
   "metadata": {},
   "outputs": [
    {
     "name": "stdout",
     "output_type": "stream",
     "text": [
      "0.75\n"
     ]
    }
   ],
   "source": [
    "random.seed(420)\n",
    "accuracy=len(test_df[test_df['class']==test_df['Tree_predicted']])/len(test_df)\n",
    "print(accuracy)"
   ]
  },
  {
   "cell_type": "markdown",
   "metadata": {},
   "source": [
    "## Part C"
   ]
  },
  {
   "cell_type": "markdown",
   "metadata": {},
   "source": [
    "To move onto our next classification mode: Random Forest."
   ]
  },
  {
   "cell_type": "code",
   "execution_count": 60,
   "metadata": {},
   "outputs": [],
   "source": [
    "random.seed(420)\n",
    "forest = RandomForestClassifier(n_estimators=1000)"
   ]
  },
  {
   "cell_type": "markdown",
   "metadata": {},
   "source": [
    " Now we are training this model with the same data and asking it to predict with the same test data. "
   ]
  },
  {
   "cell_type": "code",
   "execution_count": 61,
   "metadata": {},
   "outputs": [],
   "source": [
    "random.seed(420)\n",
    "forest_fit = forest.fit(train_df[['u-g','g-r','r-i','i-z','ecc','m4_u','m4_g','m4_r','m4_i','m4_z','petroR50_u','petroR50_r','petroR50_z','petroR90_u','petroR90_r','petroR90_z']],train_df['class'])\n",
    "test_df['Forest_predicted']=forest.predict(test_df[['u-g','g-r','r-i','i-z','ecc','m4_u','m4_g','m4_r','m4_i','m4_z','petroR50_u','petroR50_r','petroR50_z','petroR90_u','petroR90_r','petroR90_z']])"
   ]
  },
  {
   "cell_type": "markdown",
   "metadata": {},
   "source": [
    "We do the same thing of making a confusion matrix to check the accuracy of the model. From this matrix, we can see a high number of correct predictions for merger galaxies."
   ]
  },
  {
   "cell_type": "code",
   "execution_count": 62,
   "metadata": {},
   "outputs": [
    {
     "data": {
      "text/plain": [
       "<sklearn.metrics._plot.confusion_matrix.ConfusionMatrixDisplay at 0x18a4a322d60>"
      ]
     },
     "execution_count": 62,
     "metadata": {},
     "output_type": "execute_result"
    },
    {
     "data": {
      "image/png": "[encoded data removed]",
      "text/plain": [
       "<Figure size 432x288 with 2 Axes>"
      ]
     },
     "metadata": {
      "needs_background": "light"
     },
     "output_type": "display_data"
    }
   ],
   "source": [
    "cm=confusion_matrix(test_df['class'],test_df['Forest_predicted'])\n",
    "labels=list(set(test_df['class']))\n",
    "CMD(confusion_matrix=cm,display_labels=labels).plot()"
   ]
  },
  {
   "cell_type": "markdown",
   "metadata": {},
   "source": [
    "Again, for methods like trees and forests, it can be very helpful to see what variable this model considers the most influential. Notice that it seems to care about more of the features then the Decision Tree model."
   ]
  },
  {
   "cell_type": "code",
   "execution_count": 63,
   "metadata": {},
   "outputs": [
    {
     "data": {
      "text/plain": [
       "([0, 1, 2, 3, 4, 5, 6, 7, 8, 9, 10, 11, 12, 13, 14, 15],\n",
       " [Text(0, 0, ''),\n",
       "  Text(0, 0, ''),\n",
       "  Text(0, 0, ''),\n",
       "  Text(0, 0, ''),\n",
       "  Text(0, 0, ''),\n",
       "  Text(0, 0, ''),\n",
       "  Text(0, 0, ''),\n",
       "  Text(0, 0, ''),\n",
       "  Text(0, 0, ''),\n",
       "  Text(0, 0, ''),\n",
       "  Text(0, 0, ''),\n",
       "  Text(0, 0, ''),\n",
       "  Text(0, 0, ''),\n",
       "  Text(0, 0, ''),\n",
       "  Text(0, 0, ''),\n",
       "  Text(0, 0, '')])"
      ]
     },
     "execution_count": 63,
     "metadata": {},
     "output_type": "execute_result"
    },
    {
     "data": {
      "image/png": "[encoded data removed]",
      "text/plain": [
       "<Figure size 432x288 with 1 Axes>"
      ]
     },
     "metadata": {
      "needs_background": "light"
     },
     "output_type": "display_data"
    }
   ],
   "source": [
    "importance=pd.Series(forest.feature_importances_,train_df.iloc[:,:16].columns)\n",
    "importance.sort_values(ascending=False,inplace=True)\n",
    "plt.bar(importance.index,importance)\n",
    "xlabel('Importance')\n",
    "ylabel('Feature')\n",
    "xticks(rotation=90)"
   ]
  },
  {
   "cell_type": "markdown",
   "metadata": {},
   "source": [
    "Now we are doing the same process of finding the precesion and recall of the Random Forest model for specific galaxy types. We find that while it does struggle a bit with the precision of merger galaxies, its decent at predicting the other two."
   ]
  },
  {
   "cell_type": "code",
   "execution_count": 64,
   "metadata": {},
   "outputs": [
    {
     "name": "stdout",
     "output_type": "stream",
     "text": [
      "{'elliptical', 'merger', 'spiral'}\n",
      "{'elliptical', 'merger', 'spiral'}\n",
      "         Type    Recall  Precision\n",
      "0  elliptical  0.900000   0.915254\n",
      "1      merger  0.761905   0.666667\n",
      "2      spiral  0.777778   0.857143\n"
     ]
    }
   ],
   "source": [
    "random.seed(420)\n",
    "forest_precision_list=find_precision(list(test_df['Forest_predicted']),list(test_df['class']))\n",
    "forest_recall_list=find_recall(list(test_df['Forest_predicted']),list(test_df['class']))\n",
    "label=['Type','Recall','Precision']\n",
    "type=list(set(test_df['class']))\n",
    "data={'Type':type,'Recall':forest_recall_list,'Precision':forest_precision_list}\n",
    "print(pd.DataFrame(data))\n"
   ]
  },
  {
   "cell_type": "markdown",
   "metadata": {},
   "source": [
    " We found that the forest prediction is about 87% accurate."
   ]
  },
  {
   "cell_type": "code",
   "execution_count": 65,
   "metadata": {},
   "outputs": [
    {
     "name": "stdout",
     "output_type": "stream",
     "text": [
      "0.8205128205128205\n"
     ]
    }
   ],
   "source": [
    "random.seed(420)\n",
    "accuracy=len(test_df[test_df['class']==test_df['Forest_predicted']])/len(test_df)\n",
    "print(accuracy)"
   ]
  },
  {
   "cell_type": "markdown",
   "metadata": {},
   "source": [
    "## Part D"
   ]
  },
  {
   "cell_type": "markdown",
   "metadata": {},
   "source": [
    "For ease of answering the proposed questions, we created a table with the precesion and recall of each model. "
   ]
  },
  {
   "cell_type": "code",
   "execution_count": 66,
   "metadata": {},
   "outputs": [
    {
     "name": "stdout",
     "output_type": "stream",
     "text": [
      "         Type  Log_Recall  Log_Precision  Tree Recall  Tree Precision  \\\n",
      "0  elliptical    0.950000       0.904762     0.900000        0.870968   \n",
      "1      merger    0.690476       0.707317     0.714286        0.566038   \n",
      "2      spiral    0.814815       0.846154     0.611111        0.804878   \n",
      "\n",
      "   Forest Recall  Forest Precision  \n",
      "0       0.900000          0.915254  \n",
      "1       0.761905          0.666667  \n",
      "2       0.777778          0.857143  \n"
     ]
    }
   ],
   "source": [
    "data={'Type':type,'Log_Recall':log_recall_list,'Log_Precision':log_precision_list,'Tree Recall':tree_recall_list,'Tree Precision':tree_precision_list,'Forest Recall':forest_recall_list,'Forest Precision':forest_precision_list}\n",
    "print(pd.DataFrame(data))"
   ]
  },
  {
   "cell_type": "markdown",
   "metadata": {},
   "source": [
    "If I was doing a study on eliptical galaxies, I would use the Forest model because it has the precision and recall for this galaxy type. While the high recall is great, but what we really care about in this senario is the precision. This is due to the need for truely elliptical galaxies for the study.\n",
    "         \n",
    "If I was doing a study on spiral galaxies and wanted as many as possible, I would use the log model due to its high recall. You could make the argument that the forest model would be better due to its higher precision, but the recall is more important in this case.\n",
    "\n",
    "If I am interested in exploring the intersection between spiral and elliptical galaxies, and  would love to build up a dataset of galaxies that could easily be mistaken as either a spiral or an elliptical galaxy I would use  the logistic regression as, in this case, both precision and recall are equally important, and the log model has have similar high precison and recall for both elliptical and spiral galaxies."
   ]
  }
 ],
 "metadata": {
  "kernelspec": {
   "display_name": "base",
   "language": "python",
   "name": "python3"
  },
  "language_info": {
   "codemirror_mode": {
    "name": "ipython",
    "version": 3
   },
   "file_extension": ".py",
   "mimetype": "text/x-python",
   "name": "python",
   "nbconvert_exporter": "python",
   "pygments_lexer": "ipython3",
   "version": "3.8.8"
  }
 },
 "nbformat": 4,
 "nbformat_minor": 2
}
